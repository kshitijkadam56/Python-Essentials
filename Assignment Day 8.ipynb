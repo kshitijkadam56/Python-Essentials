{
 "cells": [
  {
   "cell_type": "code",
   "execution_count": null,
   "metadata": {},
   "outputs": [],
   "source": [
    "#Wuestion 1\n",
    "\n",
    "#fibonacci series"
   ]
  },
  {
   "cell_type": "code",
   "execution_count": 2,
   "metadata": {},
   "outputs": [
    {
     "name": "stdout",
     "output_type": "stream",
     "text": [
      "1\n",
      "1\n",
      "2\n",
      "3\n",
      "5\n",
      "8\n"
     ]
    }
   ],
   "source": [
    "oldnumber = 0\n",
    "previousNumber = 1\n",
    "print('1')\n",
    "for i in range(0,5):\n",
    "    newNumber = previousNumber +oldnumber\n",
    "    oldnumber = previousNumber\n",
    "    previousNumber = newNumber\n",
    "    print(newNumber)"
   ]
  },
  {
   "cell_type": "code",
   "execution_count": 3,
   "metadata": {},
   "outputs": [],
   "source": [
    "def fibonacciSe(n):\n",
    "    oldnumber = 0\n",
    "    previousNumber = 1\n",
    "    print('1')\n",
    "    for i in range(0,n):\n",
    "        newNumber = previousNumber +oldnumber\n",
    "        oldnumber = previousNumber\n",
    "        previousNumber = newNumber\n",
    "        print(newNumber)"
   ]
  },
  {
   "cell_type": "code",
   "execution_count": 4,
   "metadata": {},
   "outputs": [
    {
     "name": "stdout",
     "output_type": "stream",
     "text": [
      "1\n",
      "1\n",
      "2\n",
      "3\n",
      "5\n",
      "8\n"
     ]
    }
   ],
   "source": [
    "fibonacciSe(5)"
   ]
  },
  {
   "cell_type": "code",
   "execution_count": 8,
   "metadata": {},
   "outputs": [],
   "source": [
    "def inputDecoFun(argFun):\n",
    "    \n",
    "    def newFun():\n",
    "        num = int(input(\"Enter any Number - \"))\n",
    "        argFun(num)\n",
    "    return newFun"
   ]
  },
  {
   "cell_type": "code",
   "execution_count": 9,
   "metadata": {},
   "outputs": [],
   "source": [
    "@inputDecoFun\n",
    "def fibonacciSe(n):\n",
    "    oldnumber = 0\n",
    "    previousNumber = 1\n",
    "    print('1')\n",
    "    for i in range(0,n):\n",
    "        newNumber = previousNumber +oldnumber\n",
    "        oldnumber = previousNumber\n",
    "        previousNumber = newNumber\n",
    "        print(newNumber)"
   ]
  },
  {
   "cell_type": "code",
   "execution_count": 10,
   "metadata": {},
   "outputs": [
    {
     "name": "stdout",
     "output_type": "stream",
     "text": [
      "Enter any Number - 35\n",
      "1\n",
      "1\n",
      "2\n",
      "3\n",
      "5\n",
      "8\n",
      "13\n",
      "21\n",
      "34\n",
      "55\n",
      "89\n",
      "144\n",
      "233\n",
      "377\n",
      "610\n",
      "987\n",
      "1597\n",
      "2584\n",
      "4181\n",
      "6765\n",
      "10946\n",
      "17711\n",
      "28657\n",
      "46368\n",
      "75025\n",
      "121393\n",
      "196418\n",
      "317811\n",
      "514229\n",
      "832040\n",
      "1346269\n",
      "2178309\n",
      "3524578\n",
      "5702887\n",
      "9227465\n",
      "14930352\n"
     ]
    }
   ],
   "source": [
    "fibonacciSe()"
   ]
  },
  {
   "cell_type": "code",
   "execution_count": null,
   "metadata": {},
   "outputs": [],
   "source": [
    "#question 2"
   ]
  },
  {
   "cell_type": "code",
   "execution_count": 11,
   "metadata": {},
   "outputs": [
    {
     "name": "stdout",
     "output_type": "stream",
     "text": [
      "It is properly running\n",
      "It is a code which will run no matter what\n"
     ]
    }
   ],
   "source": [
    "try:\n",
    "    5/1\n",
    "    print(\"It is properly running\")\n",
    "except:\n",
    "    print(\"It was an error thats where we are in Except block\")\n",
    "finally:\n",
    "    print(\"It is a code which will run no matter what\")"
   ]
  },
  {
   "cell_type": "code",
   "execution_count": 12,
   "metadata": {},
   "outputs": [
    {
     "name": "stdout",
     "output_type": "stream",
     "text": [
      "Database not found or its down try loging into Insta after some time\n",
      "division by zero\n",
      "Close the connection, from the DB\n"
     ]
    }
   ],
   "source": [
    "try:\n",
    "    5/0\n",
    "    print(\"Get the user from the database\")\n",
    "    print(\"Database found\")\n",
    "except Exception as e:\n",
    "    print(\"Database not found or its down try loging into Insta after some time\")\n",
    "    print(e)\n",
    "finally:\n",
    "    print(\"Close the connection, from the DB\")"
   ]
  }
 ],
 "metadata": {
  "kernelspec": {
   "display_name": "Python 3",
   "language": "python",
   "name": "python3"
  },
  "language_info": {
   "codemirror_mode": {
    "name": "ipython",
    "version": 3
   },
   "file_extension": ".py",
   "mimetype": "text/x-python",
   "name": "python",
   "nbconvert_exporter": "python",
   "pygments_lexer": "ipython3",
   "version": "3.8.3"
  }
 },
 "nbformat": 4,
 "nbformat_minor": 4
}
