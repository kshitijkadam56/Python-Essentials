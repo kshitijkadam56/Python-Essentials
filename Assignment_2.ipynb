{
  "nbformat": 4,
  "nbformat_minor": 0,
  "metadata": {
    "colab": {
      "name": "Assignment 2.ipynb",
      "provenance": [],
      "authorship_tag": "ABX9TyMOsoyXLsbYCYcAqmLS5kza",
      "include_colab_link": true
    },
    "kernelspec": {
      "name": "python3",
      "display_name": "Python 3"
    }
  },
  "cells": [
    {
      "cell_type": "markdown",
      "metadata": {
        "id": "view-in-github",
        "colab_type": "text"
      },
      "source": [
        "<a href=\"https://colab.research.google.com/github/kshitijkadam56/Python-Essentials/blob/master/Assignment_2.ipynb\" target=\"_parent\"><img src=\"https://colab.research.google.com/assets/colab-badge.svg\" alt=\"Open In Colab\"/></a>"
      ]
    },
    {
      "cell_type": "code",
      "metadata": {
        "id": "AqK-FZMRRaqo",
        "colab_type": "code",
        "colab": {}
      },
      "source": [
        "start=1\n",
        "end=200\n",
        " for i in range(start,end):\n",
        " for j in range(2,i):\n",
        "if(i%j==0):\n",
        " break\n",
        " else:\n",
        " print(i)"
      ],
      "execution_count": null,
      "outputs": []
    }
  ]
}