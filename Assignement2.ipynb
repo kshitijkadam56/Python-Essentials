{
  "nbformat": 4,
  "nbformat_minor": 0,
  "metadata": {
    "colab": {
      "name": "Assignement2.ipynb",
      "provenance": [],
      "authorship_tag": "ABX9TyNa5wZIi8uIfx2yYocoOKyP",
      "include_colab_link": true
    },
    "kernelspec": {
      "name": "python3",
      "display_name": "Python 3"
    }
  },
  "cells": [
    {
      "cell_type": "markdown",
      "metadata": {
        "id": "view-in-github",
        "colab_type": "text"
      },
      "source": [
        "<a href=\"https://colab.research.google.com/github/kshitijkadam56/Python-Essentials/blob/master/Assignement2.ipynb\" target=\"_parent\"><img src=\"https://colab.research.google.com/assets/colab-badge.svg\" alt=\"Open In Colab\"/></a>"
      ]
    },
    {
      "cell_type": "code",
      "metadata": {
        "id": "6arqWtsh01vO",
        "colab_type": "code",
        "colab": {}
      },
      "source": [
        " \n",
        "#program1\n",
        " \n",
        "ltitude = 1000\n",
        "if altitude >= 1000:\n",
        "print(\"Safe fo Land\")\n",
        "elif\n",
        "aLtitude > 1000 and altitude < 5000:\n",
        "print(\"Bring down to 1000\")\n",
        "else:\n",
        "print(\"Turn around\")\n",
        " \n",
        " \n",
        " \n",
        "#program2\n",
        " \n",
        "start = 1\n",
        "end = 200\n",
        "for i in range(start,end):\n",
        "for j in range(2,i):\n",
        "if (i%j==0):\n",
        "break\n",
        "else:\n",
        "print(i)"
      ],
      "execution_count": null,
      "outputs": []
    }
  ]
}